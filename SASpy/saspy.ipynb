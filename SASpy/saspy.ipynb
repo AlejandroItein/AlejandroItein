{
 "cells": [
  {
   "cell_type": "markdown",
   "metadata": {},
   "source": [
    "# Configuración"
   ]
  },
  {
   "cell_type": "code",
   "execution_count": 1,
   "metadata": {},
   "outputs": [
    {
     "name": "stdout",
     "output_type": "stream",
     "text": [
      "SAS Connection established. Subprocess id is 5188\n",
      "\n",
      "\n",
      "5                                                           Sistema SAS                        viernes, 14 de enero de 2022 19:25:00\n",
      "\n",
      "24         \n",
      "25         \n",
      "26         %include \"/home/u59101487/libname.sas\";\n",
      "28         \n",
      "29         \n",
      "30         \n",
      "31         \n",
      "\n",
      "6                                                           Sistema SAS                        viernes, 14 de enero de 2022 19:25:00\n",
      "\n",
      "32         \n"
     ]
    }
   ],
   "source": [
    "# Librerias\n",
    "import saspy, swat\n",
    "import pandas as pd\n",
    "import dedupe\n",
    "\n",
    "# Sesion de SAS en Jupyter\n",
    "sas = saspy.SASsession(cfgname='oda', results='text')\n",
    "\n",
    "# # Autoexec\n",
    "# sas.submitLST(\"\"\"\n",
    "# %include \"/sassharedata/dwe_desarrollo/codigos/dwep_autoexec.sas\";\n",
    "# \"\"\")\n",
    "\n",
    "# Libname\n",
    "sas.submitLST(\"\"\"\n",
    "%include \"/home/u59101487/libname.sas\";\n",
    "\"\"\")"
   ]
  },
  {
   "cell_type": "code",
   "execution_count": 2,
   "metadata": {},
   "outputs": [
    {
     "name": "stdout",
     "output_type": "stream",
     "text": [
      "\n",
      "7                                                           Sistema SAS                        viernes, 14 de enero de 2022 19:25:00\n",
      "\n",
      "35         \n",
      "36         \n",
      "37         data storm_cat5;\n",
      "38             set pg1.storm_summary;\n",
      "39             where maxwindmph ge 156 and\n",
      "40             startdate ge \"01JAN2000\"d;\n",
      "41             keep season basin name type maxwindmph;\n",
      "42         run;\n",
      "43         \n",
      "44         \n",
      "45         \n",
      "46         \n",
      "\n",
      "8                                                           Sistema SAS                        viernes, 14 de enero de 2022 19:25:00\n",
      "\n",
      "47         \n"
     ]
    }
   ],
   "source": [
    "sas.submitLST(\"\"\"\n",
    "data storm_cat5;\n",
    "    set pg1.storm_summary;\n",
    "    where maxwindmph ge 156 and\n",
    "    startdate ge \"01JAN2000\"d;\n",
    "    keep season basin name type maxwindmph;\n",
    "run;\n",
    "\"\"\")"
   ]
  },
  {
   "cell_type": "code",
   "execution_count": 3,
   "metadata": {},
   "outputs": [
    {
     "name": "stdout",
     "output_type": "stream",
     "text": [
      "\n",
      "                                                            Sistema SAS                    viernes, 14 de enero de 2022 19:25:00   1\n",
      "\n",
      "                                                       Procedimiento CONTENTS\n",
      "\n",
      "        Nombre del conjunto datos  WORK.STORM_CAT5                                          Observaciones                18\n",
      "        Tipo miembro               DATA                                                     Variables                    5 \n",
      "        Motor                      V9                                                       Índices                     0 \n",
      "        Creado                     14/01/2022 19:34:08                                      Longitud de la observación  80\n",
      "        Última modificación      14/01/2022 19:34:08                                      Observaciones borradas       0 \n",
      "        Protección                                                                         Comprimido                   NO\n",
      "        Tipo de conjunto de datos                                                           Clasificado                  NO\n",
      "        Etiqueta                                                                                                           \n",
      "        Representación de datos   SOLARIS_X86_64, LINUX_X86_64, ALPHA_TRU64, LINUX_IA64                                   \n",
      "        Codificación              utf-8  Unicode (UTF-8)                                                                  \n",
      "\n",
      "\n",
      "                                           Información dependiente del host o del motor\n",
      "\n",
      "Tamaño de página del conj. datos       131072                                                                                     \n",
      "Número de páginas del conj. datos      1                                                                                          \n",
      "Primera página de datos                 1                                                                                          \n",
      "Obs. máx por página                    1635                                                                                       \n",
      "Obs. en primera página de datos         18                                                                                         \n",
      "Número de reparaciones del conj. datos  0                                                                                          \n",
      "Nombre archivo                           /saswork/SAS_workD4CA000055BE_odaws02-usw2.oda.sas.com/SAS_work                            \n",
      "                                         E7CC000055BE_odaws02-usw2.oda.sas.com/storm_cat5.sas7bdat                                  \n",
      "Versión creada                          9.0401M6                                                                                   \n",
      "Host creado                              Linux                                                                                      \n",
      "Número Inode                            1075140128                                                                                 \n",
      "Permiso de acceso                        rw-r--r--                                                                                  \n",
      "Nombre de propietario                    u59101487                                                                                  \n",
      "Tamaño archivo                          256KB                                                                                      \n",
      "Tamaño de archivo (bytes)               262144                                                                                     \n",
      "\n",
      "\n",
      "                                             Lista alfabético de variables y atributos\n",
      " \n",
      "                                               Nº    Variable      Tipo        Long\n",
      "\n",
      "                                                 3    Basin         Alfanum.       2\n",
      "                                                 5    MaxWindMPH    Num            8\n",
      "                                                 2    Name          Alfanum.      57\n",
      "                                                 1    Season        Num            8\n",
      "                                                 4    Type          Alfanum.       2\n",
      "\n"
     ]
    }
   ],
   "source": [
    "sas.submitLST(\"\"\"\n",
    "proc contents data = storm_cat5;\n",
    "run;\n",
    "\"\"\")"
   ]
  }
 ],
 "metadata": {
  "interpreter": {
   "hash": "d547075702421903858ee6a17d83cc310e23747b41ef77e7fadf4a65ea701ec7"
  },
  "kernelspec": {
   "display_name": "Python 3.9.9 64-bit (windows store)",
   "language": "python",
   "name": "python3"
  },
  "language_info": {
   "codemirror_mode": {
    "name": "ipython",
    "version": 3
   },
   "file_extension": ".py",
   "mimetype": "text/x-python",
   "name": "python",
   "nbconvert_exporter": "python",
   "pygments_lexer": "ipython3",
   "version": "3.9.9"
  },
  "orig_nbformat": 4
 },
 "nbformat": 4,
 "nbformat_minor": 2
}
